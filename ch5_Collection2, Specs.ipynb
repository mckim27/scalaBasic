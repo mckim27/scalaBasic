{
 "cells": [
  {
   "cell_type": "markdown",
   "metadata": {},
   "source": [
    "#Ch5. Collection, Specs로 테스트 하기."
   ]
  },
  {
   "cell_type": "markdown",
   "metadata": {},
   "source": [
    "##  1. Collection"
   ]
  },
  {
   "cell_type": "markdown",
   "metadata": {},
   "source": [
    "###  1.1 기초"
   ]
  },
  {
   "cell_type": "markdown",
   "metadata": {},
   "source": [
    "* ### 리스트"
   ]
  },
  {
   "cell_type": "code",
   "execution_count": 1,
   "metadata": {
    "collapsed": false
   },
   "outputs": [
    {
     "data": {
      "text/plain": [
       "\u001b[36mres0\u001b[0m: \u001b[32mList\u001b[0m[\u001b[32mInt\u001b[0m] = \u001b[33mList\u001b[0m(\u001b[32m1\u001b[0m, \u001b[32m2\u001b[0m, \u001b[32m3\u001b[0m)"
      ]
     },
     "metadata": {},
     "output_type": "display_data"
    }
   ],
   "source": [
    "List(1, 2, 3)"
   ]
  },
  {
   "cell_type": "markdown",
   "metadata": {},
   "source": [
    "* 다른 함수언어와 마찬가지로 <br/>\n",
    "  cons(역주: LISP에서 내려온 전통적인 이름으로 두 셀을 하나로 묶어 구성(construction)해 주기 때문에 cons라 부른다.<br/> \n",
    "  LISP에서는 cons를 사용해 리스트 뿐 아니라 트리 등 여러 데이터구조를 만들고 활용한다.<br/>\n",
    "  Haskell등 더 정형화된 함수언어로 오면서 LISP의 cons cell이 가지는 일반성은 없어졌지만, <br/>\n",
    "  <font color=\"red\"><b>:나 ::</b></font>등의 연산자를 부르는 이름으로 여전히 사용되곤 한다)로 구성이 가능하다.<br/>"
   ]
  },
  {
   "cell_type": "code",
   "execution_count": 2,
   "metadata": {
    "collapsed": false
   },
   "outputs": [
    {
     "data": {
      "text/plain": [
       "\u001b[36mres1\u001b[0m: \u001b[32mList\u001b[0m[\u001b[32mInt\u001b[0m] = \u001b[33mList\u001b[0m(\u001b[32m1\u001b[0m, \u001b[32m2\u001b[0m, \u001b[32m3\u001b[0m)"
      ]
     },
     "metadata": {},
     "output_type": "display_data"
    }
   ],
   "source": [
    "1 :: 2 :: 3 :: Nil"
   ]
  },
  {
   "cell_type": "markdown",
   "metadata": {},
   "source": [
    "*  <a href=\"http://www.scala-lang.org/api/current/index.html#scala.collection.immutable.List\">List의 다른 api</a>"
   ]
  },
  {
   "cell_type": "markdown",
   "metadata": {},
   "source": [
    "\n",
    "\n",
    "\n"
   ]
  },
  {
   "cell_type": "markdown",
   "metadata": {},
   "source": [
    "* ### 집합 (Set)\n",
    "  * 중복을 허용하지 않는다."
   ]
  },
  {
   "cell_type": "code",
   "execution_count": 3,
   "metadata": {
    "collapsed": false,
    "scrolled": true
   },
   "outputs": [
    {
     "data": {
      "text/plain": [
       "\u001b[36mres2\u001b[0m: \u001b[32mSet\u001b[0m[\u001b[32mInt\u001b[0m] = \u001b[33mSet\u001b[0m(\u001b[32m1\u001b[0m, \u001b[32m2\u001b[0m)"
      ]
     },
     "metadata": {},
     "output_type": "display_data"
    }
   ],
   "source": [
    "Set(1, 1, 2)"
   ]
  },
  {
   "cell_type": "markdown",
   "metadata": {},
   "source": [
    "*  <a href=\"http://www.scala-lang.org/api/current/index.html#scala.collection.immutable.Set\">집합의 다른 api</a>"
   ]
  },
  {
   "cell_type": "markdown",
   "metadata": {},
   "source": [
    "\n",
    "\n",
    "\n"
   ]
  },
  {
   "cell_type": "markdown",
   "metadata": {},
   "source": [
    "* ### 순서열(Seq)\n",
    "  * 순서열은 순서가 있음."
   ]
  },
  {
   "cell_type": "code",
   "execution_count": 4,
   "metadata": {
    "collapsed": false
   },
   "outputs": [
    {
     "data": {
      "text/plain": [
       "\u001b[36mres3\u001b[0m: \u001b[32mSeq\u001b[0m[\u001b[32mInt\u001b[0m] = \u001b[33mList\u001b[0m(\u001b[32m1\u001b[0m, \u001b[32m1\u001b[0m, \u001b[32m2\u001b[0m)"
      ]
     },
     "metadata": {},
     "output_type": "display_data"
    }
   ],
   "source": [
    "Seq(1, 1, 2)"
   ]
  },
  {
   "cell_type": "code",
   "execution_count": 5,
   "metadata": {
    "collapsed": false
   },
   "outputs": [
    {
     "data": {
      "text/plain": [
       "\u001b[36mres4\u001b[0m: \u001b[32mSeq\u001b[0m[\u001b[32mInt\u001b[0m] = \u001b[33mList\u001b[0m(\u001b[32m2\u001b[0m, \u001b[32m1\u001b[0m, \u001b[32m1\u001b[0m)"
      ]
     },
     "metadata": {},
     "output_type": "display_data"
    }
   ],
   "source": [
    "Seq(2, 1, 1)"
   ]
  },
  {
   "cell_type": "markdown",
   "metadata": {},
   "source": [
    "* 반환된 것이 <font color=\"red\">리스트 !!!.</font><br/> \n",
    "  <font color=\"red\">Seq는 트레잇이다.</font> 리스트는 Seq를 잘 구현하고 있다. <br/>\n",
    "  여기서 볼 수 있듯 Seq라 불리는 팩토리 객체가 있어서 리스트를 만들어준다."
   ]
  },
  {
   "cell_type": "markdown",
   "metadata": {},
   "source": [
    "*  <a href=\"http://www.scala-lang.org/api/current/index.html#scala.collection.Seq\">순서열 다른 api</a>"
   ]
  },
  {
   "cell_type": "markdown",
   "metadata": {},
   "source": [
    "\n",
    "\n",
    "\n"
   ]
  },
  {
   "cell_type": "markdown",
   "metadata": {},
   "source": [
    "* ### 맵(Map)\n",
    "  * 맵은 Key-Value 쌍을 저장한다."
   ]
  },
  {
   "cell_type": "code",
   "execution_count": 6,
   "metadata": {
    "collapsed": false
   },
   "outputs": [
    {
     "data": {
      "text/plain": [
       "\u001b[36mres5\u001b[0m: \u001b[32mMap\u001b[0m[\u001b[32mChar\u001b[0m, \u001b[32mInt\u001b[0m] = \u001b[33mMap\u001b[0m(\u001b[32m'a'\u001b[0m -> \u001b[32m1\u001b[0m, \u001b[32m'b'\u001b[0m -> \u001b[32m2\u001b[0m)"
      ]
     },
     "metadata": {},
     "output_type": "display_data"
    }
   ],
   "source": [
    "Map('a' -> 1, 'b' -> 2)"
   ]
  },
  {
   "cell_type": "markdown",
   "metadata": {},
   "source": [
    "*  <a href=\"http://www.scala-lang.org/api/current/index.html#scala.collection.immutable.Map\">맵 다른 api</a>"
   ]
  },
  {
   "cell_type": "markdown",
   "metadata": {},
   "source": [
    "\n",
    "\n",
    "\n"
   ]
  },
  {
   "cell_type": "markdown",
   "metadata": {},
   "source": [
    "### 1.2 계층구조"
   ]
  },
  {
   "cell_type": "markdown",
   "metadata": {},
   "source": [
    "* 다음은 트레잇이다. mutable과 immutable 패키지에는 이 트레잇에 대한 각각의 구현이 들어있다."
   ]
  },
  {
   "cell_type": "markdown",
   "metadata": {},
   "source": [
    "* ### 방문가능(Traversable)\n",
    "  * 모든 컬렉션은 방문 가능해야 한다. 이 트레잇는 표준적인 함수 콤비네이터를 정의한다. 이런 콤비네이터는 @foreach@를 기초로 구현되어 있다. @foreach@는 모든 컬렉션이 구현해야만 하는 메소드이다.<br/><br/>\n",
    "  * <a href=\"http://www.scala-lang.org/api/current/index.html#scala.collection.Traversable\">Traversable api</a>"
   ]
  },
  {
   "cell_type": "markdown",
   "metadata": {},
   "source": [
    "* ### 반복가능(Iterable)\n",
    "  * 원소에 대해 루프를 돌 수 있는 반복자를 반환하는 iterator() 메소드를 반환한다.<br/><br/>\n",
    "  * <a href=\"http://www.scala-lang.org/api/current/index.html#scala.collection.Iterable\">Iterable api</a>"
   ]
  },
  {
   "cell_type": "markdown",
   "metadata": {},
   "source": [
    "* ### 순서열(Seq)\n",
    "  * 순서가 있는 아이템 열이다.<br/><br/>\n",
    "  * <a href=\"http://www.scala-lang.org/api/current/index.html#scala.collection.Seq\">Seq api</a>"
   ]
  },
  {
   "cell_type": "markdown",
   "metadata": {},
   "source": [
    "* ### 집합(Set)\n",
    "  * 원소의 중복이 없는 컬렉션이다.<br/><br/>\n",
    "  * <a href=\"http://www.scala-lang.org/api/current/index.html#scala.collection.immutable.Set\">Set api</a>"
   ]
  },
  {
   "cell_type": "markdown",
   "metadata": {},
   "source": [
    "* ### 맵(Map)\n",
    "  * 키-값 쌍을 보관하는 컬렉션이다.<br/><br/>\n",
    "  * <a href=\"http://www.scala-lang.org/api/current/index.html#scala.collection.immutable.Map\">Map api</a>"
   ]
  },
  {
   "cell_type": "markdown",
   "metadata": {},
   "source": [
    "* ### Collections consistency<br/><br/>\n",
    "\n",
    "* Traversable\n",
    "  * Iterable\n",
    "    * Seq\n",
    "      * IndexedSeq\n",
    "      * Vector\n",
    "      * ResizableArray\n",
    "      * GenericArray\n",
    "    * LinearSeq\n",
    "      * MutableList\n",
    "      * List\n",
    "      * Stream\n",
    "    * Buffer\n",
    "      * ListBuffer\n",
    "      * ArrayBuffer\n",
    "    * Set\n",
    "      * SortedSet\n",
    "        * TreeSet\n",
    "      * HashSet (mutable)\n",
    "      * LinkedHashSet\n",
    "      * HashSet (immutable)\n",
    "      * BitSet\n",
    "      * EmptySet, Set1, Set2, Set3, Set4\n",
    "    * Map\n",
    "      * SortedMap\n",
    "      * TreeMap\n",
    "      * HashMap (mutable)\n",
    "      * LinkedHashMap (mutable)\n",
    "      * HashMap (immutable)\n",
    "      * EmptyMap, Map1, Map2, Map3, Map4"
   ]
  },
  {
   "cell_type": "markdown",
   "metadata": {},
   "source": [
    "\n"
   ]
  },
  {
   "cell_type": "markdown",
   "metadata": {},
   "source": [
    "\n"
   ]
  },
  {
   "cell_type": "markdown",
   "metadata": {},
   "source": [
    "### 1.3 메소드"
   ]
  },
  {
   "cell_type": "markdown",
   "metadata": {},
   "source": [
    "* ### 방문가능(Traversable)\n",
    "  * 아래 메소드들은 모두 사용 가능하다.<br/> \n",
    "  하위 클래스에서 오버라이드가 가능하기 때문에, 인자와 반환 값의 타입이 아래 명시된 것과 동일하지 않을 수도 있다.<br/><br/>"
   ]
  },
  {
   "cell_type": "code",
   "execution_count": 43,
   "metadata": {
    "collapsed": false
   },
   "outputs": [
    {
     "ename": "",
     "evalue": "",
     "output_type": "error",
     "traceback": [
      "\u001b[31m<console>:1: '=' expected but eof found.",
      "def head  : A",
      "             ^\u001b[0m"
     ]
    }
   ],
   "source": [
    "def head  : A "
   ]
  },
  {
   "cell_type": "code",
   "execution_count": 42,
   "metadata": {
    "collapsed": false
   },
   "outputs": [
    {
     "ename": "",
     "evalue": "",
     "output_type": "error",
     "traceback": [
      "\u001b[31m<console>:1: '=' expected but eof found.",
      "def tail : Traversable[A]",
      "                         ^\u001b[0m"
     ]
    }
   ],
   "source": [
    "def tail : Traversable[A]"
   ]
  },
  {
   "cell_type": "markdown",
   "metadata": {},
   "source": [
    "* 다음에 정의된 모든 함수 콤비네이터를 보인다.\n"
   ]
  },
  {
   "cell_type": "markdown",
   "metadata": {},
   "source": [
    "\n",
    "\n"
   ]
  },
  {
   "cell_type": "markdown",
   "metadata": {},
   "source": [
    "* 모든 원소가 @f@로 변환된 결과 컬렉션을 반환한다"
   ]
  },
  {
   "cell_type": "code",
   "execution_count": 6,
   "metadata": {
    "collapsed": false
   },
   "outputs": [
    {
     "ename": "",
     "evalue": "",
     "output_type": "error",
     "traceback": [
      "\u001b[31m<console>:1: '=' expected but eof found.",
      "def map [B] (f: (A) => B) : CC[B]",
      "                                 ^\u001b[0m"
     ]
    }
   ],
   "source": [
    "def map [B] (f: (A) => B) : CC[B]"
   ]
  },
  {
   "cell_type": "markdown",
   "metadata": {},
   "source": [
    "* 컬렉션의 모든 원소에 @f@를 적용해 컬렉션을 변환한다. "
   ]
  },
  {
   "cell_type": "code",
   "execution_count": 6,
   "metadata": {
    "collapsed": false
   },
   "outputs": [
    {
     "ename": "",
     "evalue": "",
     "output_type": "error",
     "traceback": [
      "\u001b[31m<console>:1: '=' expected but eof found.",
      "def toArray : Array[A]",
      "                      ^\u001b[0m"
     ]
    }
   ],
   "source": [
    "def foreach[U](f: Elem => U): Unit"
   ]
  },
  {
   "cell_type": "markdown",
   "metadata": {},
   "source": [
    "* 술어 함수 p를 만족하는 가장 첫 원소를 반환한다.\n"
   ]
  },
  {
   "cell_type": "code",
   "execution_count": 7,
   "metadata": {
    "collapsed": false
   },
   "outputs": [
    {
     "ename": "",
     "evalue": "",
     "output_type": "error",
     "traceback": [
      "\u001b[31m<console>:1: '=' expected but eof found.",
      "def find (p: (A) => Boolean) : Option[A]",
      "                                        ^\u001b[0m"
     ]
    }
   ],
   "source": [
    "def find (p: (A) => Boolean) : Option[A]"
   ]
  },
  {
   "cell_type": "markdown",
   "metadata": {
    "collapsed": false
   },
   "source": [
    "* 술어함수를 만족하는 모든 원소로 이루어진 컬렉션을 반환한다."
   ]
  },
  {
   "cell_type": "code",
   "execution_count": 7,
   "metadata": {
    "collapsed": false,
    "scrolled": true
   },
   "outputs": [
    {
     "ename": "",
     "evalue": "",
     "output_type": "error",
     "traceback": [
      "\u001b[31m<console>:1: '=' expected but eof found.",
      "def filter (p: (A) => Boolean) : Traversable[A]",
      "                                               ^\u001b[0m"
     ]
    }
   ],
   "source": [
    "def filter (p: (A) => Boolean) : Traversable[A]"
   ]
  },
  {
   "cell_type": "markdown",
   "metadata": {
    "collapsed": false
   },
   "source": [
    "\n",
    "\n"
   ]
  },
  {
   "cell_type": "markdown",
   "metadata": {
    "collapsed": false
   },
   "source": [
    "* 분할하기"
   ]
  },
  {
   "cell_type": "markdown",
   "metadata": {
    "collapsed": false
   },
   "source": [
    "* 컬렉션을 술어함수에 따라 서로소인 두 컬렉션으로 나눈다."
   ]
  },
  {
   "cell_type": "code",
   "execution_count": 7,
   "metadata": {
    "collapsed": false,
    "scrolled": true
   },
   "outputs": [
    {
     "ename": "",
     "evalue": "",
     "output_type": "error",
     "traceback": [
      "\u001b[31m<console>:1: '=' expected but eof found.",
      "def partition (p: (A) ⇒ Boolean) : (Traversable[A], Traversable[A])",
      "                                                                   ^\u001b[0m"
     ]
    }
   ],
   "source": [
    "def partition (p: (A) ⇒ Boolean) : (Traversable[A], Traversable[A])"
   ]
  },
  {
   "cell_type": "markdown",
   "metadata": {
    "collapsed": false
   },
   "source": [
    "* f의 반환값에 따라 컬렉션을 분할해서 맵에 넣어준다."
   ]
  },
  {
   "cell_type": "code",
   "execution_count": 7,
   "metadata": {
    "collapsed": false,
    "scrolled": true
   },
   "outputs": [
    {
     "ename": "",
     "evalue": "",
     "output_type": "error",
     "traceback": [
      "\u001b[31m<console>:1: '=' expected but eof found.",
      "def groupBy [K] (f: (A) => K) : Map[K, Traversable[A]]",
      "                                                      ^\u001b[0m"
     ]
    }
   ],
   "source": [
    "def groupBy [K] (f: (A) => K) : Map[K, Traversable[A]]"
   ]
  },
  {
   "cell_type": "markdown",
   "metadata": {
    "collapsed": false
   },
   "source": [
    "* 변환\n",
    "  * 재미있게도(?) 한 컬렉션을 다른 컬렉션으로 상호 변환 가능하다.\n",
    "\n"
   ]
  },
  {
   "cell_type": "code",
   "execution_count": 43,
   "metadata": {
    "collapsed": false
   },
   "outputs": [
    {
     "ename": "",
     "evalue": "",
     "output_type": "error",
     "traceback": [
      "\u001b[31m<console>:1: '=' expected but eof found.",
      "def toArray : Array[A]",
      "                      ^\u001b[0m",
      "\u001b[31m<console>:1: '=' expected but eof found.",
      "def toArray [B >: A] (implicit arg0: ClassManifest[B]) : Array[B]",
      "                                                                 ^\u001b[0m",
      "\u001b[31m<console>:1: '=' expected but eof found.",
      "def toBuffer [B >: A] : Buffer[B]",
      "                                 ^\u001b[0m",
      "\u001b[31m<console>:1: '=' expected but eof found.",
      "def toIndexedSeq [B >: A] : IndexedSeq[B]",
      "                                         ^\u001b[0m",
      "\u001b[31m<console>:1: '=' expected but eof found.",
      "def toIterable : Iterable[A]",
      "                            ^\u001b[0m",
      "\u001b[31m<console>:1: '=' expected but eof found.",
      "def toIterator : Iterator[A]",
      "                            ^\u001b[0m",
      "\u001b[31m<console>:1: '=' expected but eof found.",
      "def toList : List[A]",
      "                    ^\u001b[0m",
      "\u001b[31m<console>:1: '=' expected but eof found.",
      "def toMap [T, U] (implicit ev: <:<[A, (T, U)]) : Map[T, U]",
      "                                                          ^\u001b[0m",
      "\u001b[31m<console>:1: '=' expected but eof found.",
      "def toSeq : Seq[A]",
      "                  ^\u001b[0m",
      "\u001b[31m<console>:1: '=' expected but eof found.",
      "def toSet [B >: A] : Set[B]",
      "                           ^\u001b[0m",
      "\u001b[31m<console>:1: '=' expected but eof found.",
      "def toStream : Stream[A]",
      "                        ^\u001b[0m",
      "\u001b[31m<console>:1: '=' expected but eof found.",
      "def toString () : String",
      "                        ^\u001b[0m",
      "\u001b[31m<console>:1: '=' expected but eof found.",
      "def toTraversable : Traversable[A]",
      "                                  ^\u001b[0m"
     ]
    }
   ],
   "source": [
    "def toArray : Array[A]\n",
    "def toArray [B >: A] (implicit arg0: ClassManifest[B]) : Array[B]\n",
    "def toBuffer [B >: A] : Buffer[B]\n",
    "def toIndexedSeq [B >: A] : IndexedSeq[B]\n",
    "def toIterable : Iterable[A]\n",
    "def toIterator : Iterator[A]\n",
    "def toList : List[A]\n",
    "def toMap [T, U] (implicit ev: <:<[A, (T, U)]) : Map[T, U]\n",
    "def toSeq : Seq[A]\n",
    "def toSet [B >: A] : Set[B]\n",
    "def toStream : Stream[A]\n",
    "def toString () : String\n",
    "def toTraversable : Traversable[A]"
   ]
  },
  {
   "cell_type": "markdown",
   "metadata": {},
   "source": [
    "* 맵을 배열로 변환하면, 키-값 쌍(튜플)의 배열을 얻는다."
   ]
  },
  {
   "cell_type": "code",
   "execution_count": 8,
   "metadata": {
    "collapsed": false
   },
   "outputs": [
    {
     "data": {
      "text/plain": [
       "\u001b[36mres6\u001b[0m: \u001b[32mArray\u001b[0m[(\u001b[32mInt\u001b[0m, \u001b[32mInt\u001b[0m)] = \u001b[33mArray\u001b[0m(\u001b[33m\u001b[0m(\u001b[32m1\u001b[0m, \u001b[32m2\u001b[0m))"
      ]
     },
     "metadata": {},
     "output_type": "display_data"
    }
   ],
   "source": [
    "Map(1 -> 2).toArray"
   ]
  },
  {
   "cell_type": "markdown",
   "metadata": {},
   "source": [
    "* ### 반복가능(Iterable)\n",
    "  * 반복자를 사용하도록 해준다."
   ]
  },
  {
   "cell_type": "code",
   "execution_count": 8,
   "metadata": {
    "collapsed": false
   },
   "outputs": [
    {
     "ename": "",
     "evalue": "",
     "output_type": "error",
     "traceback": [
      "\u001b[31m<console>:1: '=' expected but eof found.",
      "def iterator: Iterator[A]",
      "                         ^\u001b[0m"
     ]
    }
   ],
   "source": [
    "def iterator: Iterator[A]"
   ]
  },
  {
   "cell_type": "markdown",
   "metadata": {},
   "source": [
    "* 반복자 Iterator는 다음과 같은 기능을 제공."
   ]
  },
  {
   "cell_type": "code",
   "execution_count": 8,
   "metadata": {
    "collapsed": false
   },
   "outputs": [
    {
     "ename": "",
     "evalue": "",
     "output_type": "error",
     "traceback": [
      "\u001b[31m<console>:1: '=' expected but eof found.",
      "def hasNext(): Boolean",
      "                      ^\u001b[0m",
      "\u001b[31m<console>:1: '=' expected but eof found.",
      "def next(): A",
      "             ^\u001b[0m"
     ]
    }
   ],
   "source": [
    "def hasNext(): Boolean\n",
    "def next(): A"
   ]
  },
  {
   "cell_type": "markdown",
   "metadata": {},
   "source": [
    "* 자바스럽다고 합니다.<br/> \n",
    "  스칼라에서 반복자를 사용할 일은 많지 않고<br/> \n",
    "  함수 콤비네이터나 for-컴프리핸션(for-comprehension)을 더 많이 쓴다고 함."
   ]
  },
  {
   "cell_type": "markdown",
   "metadata": {},
   "source": [
    "* ### 집합"
   ]
  },
  {
   "cell_type": "markdown",
   "metadata": {},
   "source": [
    "* 키-값의 열로, 키를 가지고 검색이 가능하다.\n",
    "* 아래와 같이 튜플의 리스트를 apply()에 넘기거나,"
   ]
  },
  {
   "cell_type": "code",
   "execution_count": 9,
   "metadata": {
    "collapsed": false
   },
   "outputs": [
    {
     "data": {
      "text/plain": [
       "\u001b[36mres7\u001b[0m: \u001b[32mMap\u001b[0m[\u001b[32mString\u001b[0m, \u001b[32mInt\u001b[0m] = \u001b[33mMap\u001b[0m(\u001b[32m\"a\"\u001b[0m -> \u001b[32m1\u001b[0m, \u001b[32m\"b\"\u001b[0m -> \u001b[32m2\u001b[0m)"
      ]
     },
     "metadata": {},
     "output_type": "display_data"
    }
   ],
   "source": [
    "Map(\"a\" -> 1, \"b\" -> 2)"
   ]
  },
  {
   "cell_type": "markdown",
   "metadata": {},
   "source": [
    "* 아래와 같이 넘기면 맵이 생성된다."
   ]
  },
  {
   "cell_type": "code",
   "execution_count": 14,
   "metadata": {
    "collapsed": false
   },
   "outputs": [
    {
     "data": {
      "text/plain": [
       "\u001b[36mres12\u001b[0m: \u001b[32mMap\u001b[0m[\u001b[32mString\u001b[0m, \u001b[32mInt\u001b[0m] = \u001b[33mMap\u001b[0m(\u001b[32m\"a\"\u001b[0m -> \u001b[32m2\u001b[0m, \u001b[32m\"b\"\u001b[0m -> \u001b[32m2\u001b[0m)"
      ]
     },
     "metadata": {},
     "output_type": "display_data"
    }
   ],
   "source": [
    "Map((\"a\", 2), (\"b\", 2))"
   ]
  },
  {
   "cell_type": "markdown",
   "metadata": {},
   "source": [
    "* 곁가지\n",
    "  * <font color=\"red\">-></font>는 ????? 단지 튜플을 반환하는 메소드일 뿐이다."
   ]
  },
  {
   "cell_type": "code",
   "execution_count": 11,
   "metadata": {
    "collapsed": false
   },
   "outputs": [
    {
     "data": {
      "text/plain": [
       "\u001b[36mres9\u001b[0m: (\u001b[32mString\u001b[0m, \u001b[32mInt\u001b[0m) = \u001b[33m\u001b[0m(\u001b[32m\"a\"\u001b[0m, \u001b[32m2\u001b[0m)"
      ]
     },
     "metadata": {},
     "output_type": "display_data"
    }
   ],
   "source": [
    "\"a\" -> 2"
   ]
  },
  {
   "cell_type": "code",
   "execution_count": 12,
   "metadata": {
    "collapsed": false
   },
   "outputs": [
    {
     "data": {
      "text/plain": [
       "\u001b[36mres10\u001b[0m: (\u001b[32mString\u001b[0m, \u001b[32mInt\u001b[0m) = \u001b[33m\u001b[0m(\u001b[32m\"a\"\u001b[0m, \u001b[32m2\u001b[0m)"
      ]
     },
     "metadata": {},
     "output_type": "display_data"
    }
   ],
   "source": [
    "\"a\".->(2)"
   ]
  },
  {
   "cell_type": "code",
   "execution_count": 13,
   "metadata": {
    "collapsed": false
   },
   "outputs": [
    {
     "data": {
      "text/plain": [
       "\u001b[36mres11\u001b[0m: \u001b[32mMap\u001b[0m[\u001b[32mString\u001b[0m, \u001b[32mInt\u001b[0m] = \u001b[33mMap\u001b[0m(\u001b[32m\"a\"\u001b[0m -> \u001b[32m1\u001b[0m, \u001b[32m\"b\"\u001b[0m -> \u001b[32m2\u001b[0m, \u001b[32m\"c\"\u001b[0m -> \u001b[32m3\u001b[0m)"
      ]
     },
     "metadata": {},
     "output_type": "display_data"
    }
   ],
   "source": [
    "Map.empty ++ List((\"a\", 1), (\"b\", 2), (\"c\", 3))"
   ]
  },
  {
   "cell_type": "markdown",
   "metadata": {},
   "source": [
    "\n",
    "\n"
   ]
  },
  {
   "cell_type": "markdown",
   "metadata": {},
   "source": [
    "* ### 자주 사용하게 될 하위 클래스들<br/><br/>\n",
    "* 해시집합(HashSet)과 해시맵(HashMap) 빠른 검색이 가능하며, 컬렉션 중 가장 자주 사용하게될 것이다. <br/>\n",
    "  * <a href=\"http://www.scala-lang.org/api/current/index.html#scala.collection.immutable.HashSet\">HashSet api</a>\n",
    "  * <a href=\"http://www.scala-lang.org/api/current/index.html#scala.collection.immutable.HashMap\">HashMap api</a>  \n",
    "  <br/><br/>\n",
    "* 트리맵(TreeMap) 정렬된 맵(SortedMap)의 하위클래스로, 맵이면서 순서를 보존해준다. \n",
    "  * <a href=\"http://www.scala-lang.org/api/current/index.html#scala.collection.immutable.TreeMap\">TreeMap api</a> \n",
    "  <br/><br/>\n",
    "* 벡터(Vector) 빠른 임의 위치 읽기와 변경을 보장해준다.\n",
    "  * <a href=\"http://www.scala-lang.org/api/current/index.html#scala.collection.immutable.Vector\">Vector api</a> \n",
    "    <br/><br/>"
   ]
  },
  {
   "cell_type": "code",
   "execution_count": 15,
   "metadata": {
    "collapsed": false
   },
   "outputs": [
    {
     "data": {
      "text/plain": [
       "\u001b[36mres13\u001b[0m: \u001b[32mIndexedSeq\u001b[0m[\u001b[32mInt\u001b[0m] = \u001b[33mVector\u001b[0m(\u001b[32m1\u001b[0m, \u001b[32m2\u001b[0m, \u001b[32m3\u001b[0m)"
      ]
     },
     "metadata": {},
     "output_type": "display_data"
    }
   ],
   "source": [
    "IndexedSeq(1, 2, 3)"
   ]
  },
  {
   "cell_type": "code",
   "execution_count": 16,
   "metadata": {
    "collapsed": false
   },
   "outputs": [
    {
     "data": {
      "text/plain": [
       "\u001b[36mres14\u001b[0m: \u001b[32mVector\u001b[0m[\u001b[32mInt\u001b[0m] = \u001b[33mVector\u001b[0m(\u001b[32m1\u001b[0m, \u001b[32m2\u001b[0m, \u001b[32m3\u001b[0m)"
      ]
     },
     "metadata": {},
     "output_type": "display_data"
    }
   ],
   "source": [
    "Vector(1, 2, 3)"
   ]
  },
  {
   "cell_type": "markdown",
   "metadata": {},
   "source": [
    "* 범위(Range) 1 간격으로 된 정수 열이다. 자바에서 숫자를 세는 for 루프를 사용했던 경우 많이 쓰게될 것이다. \n",
    "  * <a href=\"http://www.scala-lang.org/api/current/index.html#scala.collection.immutable.Range\">Range api</a> \n",
    "    <br/><br/>"
   ]
  },
  {
   "cell_type": "code",
   "execution_count": 17,
   "metadata": {
    "collapsed": false
   },
   "outputs": [
    {
     "name": "stdout",
     "output_type": "stream",
     "text": [
      "1\n",
      "2\n",
      "3\n"
     ]
    },
    {
     "data": {
      "text/plain": []
     },
     "metadata": {},
     "output_type": "display_data"
    }
   ],
   "source": [
    "for (i <- 1 to 3) { println(i) }"
   ]
  },
  {
   "cell_type": "markdown",
   "metadata": {},
   "source": [
    "* Range 는 자체만의 표준 함수 콤비네이터를 제공한다."
   ]
  },
  {
   "cell_type": "code",
   "execution_count": 19,
   "metadata": {
    "collapsed": false
   },
   "outputs": [
    {
     "data": {
      "text/plain": [
       "\u001b[36mres17\u001b[0m: \u001b[32mcollection\u001b[0m.\u001b[32mimmutable\u001b[0m.\u001b[32mIndexedSeq\u001b[0m[\u001b[32mInt\u001b[0m] = \u001b[33mVector\u001b[0m(\u001b[32m1\u001b[0m, \u001b[32m2\u001b[0m, \u001b[32m3\u001b[0m)"
      ]
     },
     "metadata": {},
     "output_type": "display_data"
    }
   ],
   "source": [
    "(1 to 3).map { i => i }"
   ]
  },
  {
   "cell_type": "markdown",
   "metadata": {},
   "source": [
    "\n",
    "\n"
   ]
  },
  {
   "cell_type": "markdown",
   "metadata": {},
   "source": [
    "* ### 기본 구현"
   ]
  },
  {
   "cell_type": "markdown",
   "metadata": {},
   "source": [
    "* 각 트레잇의 apply 메소드를 호출하면 기본 구현의 인스턴스를 만들 수 있다.<br/> \n",
    "  예를 들어 Iterable(1, 2)를 호출하면 Iterable의 기본 구현인 리스트가 반환된다."
   ]
  },
  {
   "cell_type": "code",
   "execution_count": 20,
   "metadata": {
    "collapsed": false
   },
   "outputs": [
    {
     "data": {
      "text/plain": [
       "\u001b[36mres18\u001b[0m: \u001b[32mIterable\u001b[0m[\u001b[32mInt\u001b[0m] = \u001b[33mList\u001b[0m(\u001b[32m1\u001b[0m, \u001b[32m2\u001b[0m)"
      ]
     },
     "metadata": {},
     "output_type": "display_data"
    }
   ],
   "source": [
    "Iterable(1, 2)"
   ]
  },
  {
   "cell_type": "code",
   "execution_count": 2,
   "metadata": {
    "collapsed": false
   },
   "outputs": [
    {
     "data": {
      "text/plain": [
       "\u001b[36mres0\u001b[0m: \u001b[32mTraversable\u001b[0m[\u001b[32mInt\u001b[0m] = \u001b[33mList\u001b[0m(\u001b[32m1\u001b[0m, \u001b[32m2\u001b[0m)"
      ]
     },
     "metadata": {},
     "output_type": "display_data"
    }
   ],
   "source": [
    "Traversable(1, 2)"
   ]
  },
  {
   "cell_type": "markdown",
   "metadata": {},
   "source": [
    "* Seq도 마찬가지이다."
   ]
  },
  {
   "cell_type": "code",
   "execution_count": 22,
   "metadata": {
    "collapsed": false
   },
   "outputs": [
    {
     "data": {
      "text/plain": [
       "\u001b[36mres19\u001b[0m: \u001b[32mSeq\u001b[0m[\u001b[32mInt\u001b[0m] = \u001b[33mList\u001b[0m(\u001b[32m1\u001b[0m, \u001b[32m2\u001b[0m)"
      ]
     },
     "metadata": {},
     "output_type": "display_data"
    }
   ],
   "source": [
    "Seq(1, 2)"
   ]
  },
  {
   "cell_type": "code",
   "execution_count": 24,
   "metadata": {
    "collapsed": false
   },
   "outputs": [
    {
     "data": {
      "text/plain": [
       "\u001b[36mres20\u001b[0m: \u001b[32mIterable\u001b[0m[\u001b[32mInt\u001b[0m] = \u001b[33mList\u001b[0m(\u001b[32m1\u001b[0m, \u001b[32m2\u001b[0m)"
      ]
     },
     "metadata": {},
     "output_type": "display_data"
    }
   ],
   "source": [
    "Iterable(1, 2)"
   ]
  },
  {
   "cell_type": "code",
   "execution_count": 26,
   "metadata": {
    "collapsed": false
   },
   "outputs": [
    {
     "data": {
      "text/plain": [
       "\u001b[36mres21\u001b[0m: \u001b[32mSet\u001b[0m[\u001b[32mInt\u001b[0m] = \u001b[33mSet\u001b[0m(\u001b[32m1\u001b[0m, \u001b[32m2\u001b[0m)"
      ]
     },
     "metadata": {},
     "output_type": "display_data"
    }
   ],
   "source": [
    "Set(1, 2)"
   ]
  },
  {
   "cell_type": "markdown",
   "metadata": {},
   "source": [
    "\n",
    "\n"
   ]
  },
  {
   "cell_type": "markdown",
   "metadata": {},
   "source": [
    "* ### 다른 (이름이 특징을 설명해 주는) 트레잇들"
   ]
  },
  {
   "cell_type": "markdown",
   "metadata": {},
   "source": [
    "* 색인열(IndexedSeq) 원소의 빠른 임의 억세스가 가능하고, 길이를 빠르게 계산한다.\n",
    "  * <a href=\"http://www.scala-lang.org/api/current/index.html#scala.collection.IndexedSeq\">IndexedSeq api</a> "
   ]
  },
  {
   "cell_type": "markdown",
   "metadata": {},
   "source": [
    "* 선형열(LinearSeq) head를 사용해 빠르게 첫 원소를 억세스할 수 있고, tail 연산도 빨리 할 수 있다.\n",
    "  * <a href=\"http://www.scala-lang.org/api/current/index.html#scala.collection.LinearSeq\">LinearSeq api</a>"
   ]
  },
  {
   "cell_type": "markdown",
   "metadata": {},
   "source": [
    "* 변경가능한지 아닌지 여부에 따른 구분<br/><br/>\n",
    "  * 불면성(immutable)\n",
    "    * 장점 : 다중 쓰레드의 경우에도 다른 클래스로 바꿀 필요가 없다.<br/><br/>\n",
    "    \n",
    "    * 단점 : 변경이 불가능하다.  <br/><br/>\n"
   ]
  },
  {
   "cell_type": "markdown",
   "metadata": {},
   "source": [
    "* 스칼라는 실용적인 접근을 허용한다. 불변성을 장려하기는 하지만, 변경을 사용한다고 해서 문제가 될것은 없다.<br/> \n",
    "  이는 var와 val과도 유사하다. 보통 val로 프로그램을 짜기 시작 하지만, 필요한 경우 var를 활용해도 된다.<br/><br/>\n",
    "\n",
    "  불변성 컬렉션으로 시작해서 성능 향상이 필요한 경우 변경 가능한쪽으로 바꿀 수 있다.<br/> \n",
    "  불변성 컬렉션을 사용하면 다중 쓰레드에서 실수로 이를 변경하는 경우를 막을 수 있다.<br/><br/>"
   ]
  },
  {
   "cell_type": "markdown",
   "metadata": {},
   "source": [
    "### 1.4 변경가능(Mutable)\n",
    "  * 지금까지 다룬 모든 클래스는 불변성이었다. 이제 자주 사용되는 변경 가능한 컬렉션을 살펴보자."
   ]
  },
  {
   "cell_type": "markdown",
   "metadata": {},
   "source": [
    "* 해시맵(HashMap)은 getOrElseUpdate, += 등을 제공한다 \n",
    "  <a href=\"http://www.scala-lang.org/api/current/scala/collection/mutable/HashMap.html\">HashMap api</a> "
   ]
  },
  {
   "cell_type": "code",
   "execution_count": 24,
   "metadata": {
    "collapsed": false
   },
   "outputs": [
    {
     "data": {
      "text/plain": [
       "\u001b[36mnumbers\u001b[0m: \u001b[32mcollection\u001b[0m.\u001b[32mmutable\u001b[0m.\u001b[32mMap\u001b[0m[\u001b[32mInt\u001b[0m, \u001b[32mInt\u001b[0m] = \u001b[33mMap\u001b[0m(\u001b[32m1\u001b[0m -> \u001b[32m2\u001b[0m)"
      ]
     },
     "metadata": {},
     "output_type": "display_data"
    }
   ],
   "source": [
    "val numbers = collection.mutable.Map(1 -> 2)"
   ]
  },
  {
   "cell_type": "code",
   "execution_count": 25,
   "metadata": {
    "collapsed": false
   },
   "outputs": [
    {
     "data": {
      "text/plain": [
       "\u001b[36mres21\u001b[0m: \u001b[32mOption\u001b[0m[\u001b[32mInt\u001b[0m] = Some(2)"
      ]
     },
     "metadata": {},
     "output_type": "display_data"
    }
   ],
   "source": [
    "numbers.get(1)"
   ]
  },
  {
   "cell_type": "code",
   "execution_count": 26,
   "metadata": {
    "collapsed": false
   },
   "outputs": [
    {
     "data": {
      "text/plain": [
       "\u001b[36mres22\u001b[0m: \u001b[32mInt\u001b[0m = \u001b[32m3\u001b[0m"
      ]
     },
     "metadata": {},
     "output_type": "display_data"
    }
   ],
   "source": [
    "numbers.getOrElseUpdate(2, 3)"
   ]
  },
  {
   "cell_type": "code",
   "execution_count": 27,
   "metadata": {
    "collapsed": false
   },
   "outputs": [
    {
     "data": {
      "text/plain": [
       "\u001b[36mres23\u001b[0m: \u001b[32mcollection\u001b[0m.\u001b[32mmutable\u001b[0m.\u001b[32mMap\u001b[0m[\u001b[32mInt\u001b[0m, \u001b[32mInt\u001b[0m] = \u001b[33mMap\u001b[0m(\u001b[32m2\u001b[0m -> \u001b[32m3\u001b[0m, \u001b[32m1\u001b[0m -> \u001b[32m2\u001b[0m)"
      ]
     },
     "metadata": {},
     "output_type": "display_data"
    }
   ],
   "source": [
    "numbers"
   ]
  },
  {
   "cell_type": "code",
   "execution_count": 28,
   "metadata": {
    "collapsed": false,
    "scrolled": true
   },
   "outputs": [
    {
     "data": {
      "text/plain": []
     },
     "metadata": {},
     "output_type": "display_data"
    }
   ],
   "source": [
    "numbers.update(2, 4)"
   ]
  },
  {
   "cell_type": "code",
   "execution_count": 29,
   "metadata": {
    "collapsed": false
   },
   "outputs": [
    {
     "data": {
      "text/plain": [
       "\u001b[36mres25\u001b[0m: \u001b[32mcollection\u001b[0m.\u001b[32mmutable\u001b[0m.\u001b[32mMap\u001b[0m[\u001b[32mInt\u001b[0m, \u001b[32mInt\u001b[0m] = \u001b[33mMap\u001b[0m(\u001b[32m2\u001b[0m -> \u001b[32m4\u001b[0m, \u001b[32m1\u001b[0m -> \u001b[32m2\u001b[0m)"
      ]
     },
     "metadata": {},
     "output_type": "display_data"
    }
   ],
   "source": [
    "numbers"
   ]
  },
  {
   "cell_type": "code",
   "execution_count": 30,
   "metadata": {
    "collapsed": false
   },
   "outputs": [
    {
     "data": {
      "text/plain": [
       "\u001b[36mres26\u001b[0m: \u001b[32mcollection\u001b[0m.\u001b[32mmutable\u001b[0m.\u001b[32mMap\u001b[0m[\u001b[32mInt\u001b[0m, \u001b[32mInt\u001b[0m] = \u001b[33mMap\u001b[0m(\u001b[32m2\u001b[0m -> \u001b[32m4\u001b[0m, \u001b[32m1\u001b[0m -> \u001b[32m2\u001b[0m, \u001b[32m3\u001b[0m -> \u001b[32m1\u001b[0m)"
      ]
     },
     "metadata": {},
     "output_type": "display_data"
    }
   ],
   "source": [
    "numbers += (3 -> 1)"
   ]
  },
  {
   "cell_type": "markdown",
   "metadata": {},
   "source": [
    "* 리스트버퍼(ListBuffer)와 배열버퍼(ArrayBuffer) +=를 제공함\n",
    "  * <a href=\"http://www.scala-lang.org/api/current/index.html#scala.collection.mutable.ListBuffer\">ListBuffer api</a>\n",
    "  * <a href=\"http://www.scala-lang.org/api/current/index.html#scala.collection.mutable.ArrayBuffer\">ArrayBuffer api</a><br/><br/>\n",
    "\n",
    "* 연결리스트(LinkedList)와 이중연결리스트(DoubleLinkedList) \n",
    "  * <a href=\"http://www.scala-lang.org/api/current/index.html#scala.collection.mutable.LinkedList\">LinkedList API</a>\n",
    "  * <a href=\"http://www.scala-lang.org/api/current/index.html#scala.collection.mutable.DoubleLinkedList\">DoubleLinkedList API</a><br/><br/>\n",
    "\n",
    "* 우선순위 큐(PriorityQueue) \n",
    "  * <a href=\"http://www.scala-lang.org/api/current/index.html#scala.collection.mutable.PriorityQueue\">PriorityQueue API</a><br/><br/>\n",
    "\n",
    "* 스택(Stack)과 배열스택(ArrayStack) \n",
    "  * <a href=\"http://www.scala-lang.org/api/current/index.html#scala.collection.mutable.Stack\">Stack API</a>\n",
    "  * <a href=\"http://www.scala-lang.org/api/current/index.html#scala.collection.mutable.ArrayStack\">Array Stack API</a>\n",
    "<br/><br/>\n",
    "* 스트링빌더(StringBuilder) 재미있는 것은 스트링빌더가 컬렉션이란 점이다. \n",
    "  * <a href=\"http://www.scala-lang.org/api/current/index.html#scala.collection.mutable.StringBuilder\">StringBuilder API</a><br/><br/>\n",
    "\n"
   ]
  },
  {
   "cell_type": "markdown",
   "metadata": {},
   "source": [
    "### 1.5 자바와 공존하기"
   ]
  },
  {
   "cell_type": "markdown",
   "metadata": {},
   "source": [
    "* 자바와 스칼라 컬렉션을 쉽게 오갈 수 있다. <br/>\n",
    "  변환은 <a href=\"http://www.scala-lang.org/api/current/index.html#scala.collection.JavaConverters$\">JavaConverters 패키지에</a> 정의되어 있다. <br/>\n",
    "  이를 통해 자주 사용하는 자바 컬렉션에는 asScala 메소드가, 스칼라 컬렉션에는 asJava 메소드가 추가된다."
   ]
  },
  {
   "cell_type": "code",
   "execution_count": 34,
   "metadata": {
    "collapsed": false
   },
   "outputs": [
    {
     "data": {
      "text/plain": [
       "\u001b[32mimport \u001b[36mscala.collection.JavaConverters._\u001b[0m\n",
       "\u001b[36msl\u001b[0m: \u001b[32mcollection\u001b[0m.\u001b[32mmutable\u001b[0m.\u001b[32mListBuffer\u001b[0m[\u001b[32mInt\u001b[0m] = \u001b[33mListBuffer\u001b[0m(\u001b[32m1\u001b[0m, \u001b[32m2\u001b[0m, \u001b[32m3\u001b[0m)\n",
       "\u001b[36mjl\u001b[0m: \u001b[32mjava\u001b[0m.\u001b[32mutil\u001b[0m.\u001b[32mList\u001b[0m[\u001b[32mInt\u001b[0m] = [1, 2, 3]\n",
       "\u001b[36msl2\u001b[0m: \u001b[32mcollection\u001b[0m.\u001b[32mmutable\u001b[0m.\u001b[32mBuffer\u001b[0m[\u001b[32mInt\u001b[0m] = \u001b[33mListBuffer\u001b[0m(\u001b[32m1\u001b[0m, \u001b[32m2\u001b[0m, \u001b[32m3\u001b[0m)"
      ]
     },
     "metadata": {},
     "output_type": "display_data"
    }
   ],
   "source": [
    "import scala.collection.JavaConverters._\n",
    "   val sl = new scala.collection.mutable.ListBuffer[Int]\n",
    "   sl.append(1, 2, 3);\n",
    "   val jl : java.util.List[Int] = sl.asJava\n",
    "   val sl2 : scala.collection.mutable.Buffer[Int] = jl.asScala\n",
    "   assert(sl eq sl2)"
   ]
  },
  {
   "cell_type": "markdown",
   "metadata": {},
   "source": [
    "* 상호 변환이 되는 것은 다음과 같다.\n"
   ]
  },
  {
   "cell_type": "markdown",
   "metadata": {},
   "source": [
    "scala.collection.Iterable <=> java.lang.Iterable<br/>\n",
    "scala.collection.Iterable <=> java.util.Collection<br/>\n",
    "scala.collection.Iterator <=> java.util.{ Iterator, Enumeration }<br/>\n",
    "scala.collection.mutable.Buffer <=> java.util.List<br/>\n",
    "scala.collection.mutable.Set <=> java.util.Set<br/>\n",
    "scala.collection.mutable.Map <=> java.util.{ Map, Dictionary }<br/>\n",
    "scala.collection.mutable.ConcurrentMap <=> java.util.concurrent.ConcurrentMap<br/>"
   ]
  },
  {
   "cell_type": "markdown",
   "metadata": {},
   "source": [
    "* 추가로 다음은 한쪽으로만 변환이 가능하다."
   ]
  },
  {
   "cell_type": "markdown",
   "metadata": {},
   "source": [
    "scala.collection.Seq => java.util.List<br/>\n",
    "scala.collection.mutable.Seq => java.util.List<br/>\n",
    "scala.collection.Set => java.util.Set<br/>\n",
    "scala.collection.Map => java.util.Map<br/>"
   ]
  },
  {
   "cell_type": "markdown",
   "metadata": {},
   "source": [
    "\n"
   ]
  },
  {
   "cell_type": "markdown",
   "metadata": {},
   "source": [
    "\n"
   ]
  },
  {
   "cell_type": "markdown",
   "metadata": {},
   "source": [
    "##  2. Specs로 테스트 하기"
   ]
  },
  {
   "cell_type": "markdown",
   "metadata": {},
   "source": [
    "* Specs는 스칼라용 동작 주도 설계(Behavior-Driven Design, BDD) 프레임워크이다.<br/>\n",
    "  하지만 스칼라 2.11 버전에서는 specs가 포함되 있지 않음.... 설치 방법을 검색하여 시도를 했지만 일단 실패...\n",
    "  "
   ]
  },
  {
   "cell_type": "markdown",
   "metadata": {},
   "source": [
    "* ### Specifcation(명세 클래스) 확장하기"
   ]
  },
  {
   "cell_type": "markdown",
   "metadata": {
    "collapsed": false
   },
   "source": [
    "<pre>\n",
    "import org.specs._\n",
    "\n",
    "object ArithmeticSpec extends Specification {\n",
    "  \"Arithmetic\" should {\n",
    "    \"add two numbers\" in {\n",
    "      1 + 1 mustEqual 2\n",
    "    }\n",
    "    \"add three numbers\" in {\n",
    "      1 + 1 + 1 mustEqual 3\n",
    "    }\n",
    "  }\n",
    "}</pre>"
   ]
  },
  {
   "cell_type": "markdown",
   "metadata": {
    "collapsed": true
   },
   "source": [
    "* Arithmetic 은 명세를 지정할 시스템(System under Specification) 이다.\n",
    "<br/>\n",
    "* add 는 컨택스트(context)라 한다.\n",
    "<br/>\n",
    "* add two numbers와 add three numbers 는 예제(example)라 한다.\n",
    "<br/>\n",
    "* mustEqual 은 예상결과(expectation) 이다.\n",
    "<br/>\n",
    "* 1 mustEqual 1 은 \"예상결과\"를 담을 수 있는 틀로 활용할 수 있다. 예제는 반드시 하나 이상의 예상결과를 포함해야 한다."
   ]
  },
  {
   "cell_type": "markdown",
   "metadata": {},
   "source": [
    "* ### 실행 모델"
   ]
  },
  {
   "cell_type": "markdown",
   "metadata": {},
   "source": [
    "<pre>\n",
    "object ExecSpec extends Specification {\n",
    "  \"Mutations are isolated\" should {\n",
    "    var x = 0\n",
    "    \"x equals 1 if we set it.\" in {\n",
    "      x = 1\n",
    "      x mustEqual 1\n",
    "    }\n",
    "    \"x is the default value if we don't change it\" in {\n",
    "      x mustEqual 0\n",
    "    }\n",
    "  }\n",
    "}\n",
    "</pre>"
   ]
  },
  {
   "cell_type": "markdown",
   "metadata": {},
   "source": [
    "* ### 준비작업과 정리작업"
   ]
  },
  {
   "cell_type": "markdown",
   "metadata": {},
   "source": [
    "* doBefore & doAfter\n",
    "  * doBefore / doAfter 는 말단 예제에 대해에서만 실행된다."
   ]
  },
  {
   "cell_type": "markdown",
   "metadata": {},
   "source": [
    "<pre>\n",
    "\"my system\" should {\n",
    "  doBefore { resetTheSystem() /** user-defined reset function */ }\n",
    "  \"mess up the system\" in {...}\n",
    "  \"and again\" in {...}\n",
    "  doAfter { cleanThingsUp() }\n",
    "}\n",
    "</pre>"
   ]
  },
  {
   "cell_type": "markdown",
   "metadata": {},
   "source": [
    "* doFirst & doLast\n",
    "  * doFirst / @doLast@는 일회성 설정을 위한 장치이다. (예제가 필요하다. 나(즉, 원저자)는 이를 사용하지 않는다.)"
   ]
  },
  {
   "cell_type": "markdown",
   "metadata": {},
   "source": [
    "<pre>\n",
    "\"Foo\" should {\n",
    "  doFirst { openTheCurtains() }\n",
    "  \"test stateless methods\" in {...}\n",
    "  \"test other stateless methods\" in {...}\n",
    "  doLast { closeTheCurtains() }\n",
    "}\n",
    "</pre>"
   ]
  },
  {
   "cell_type": "markdown",
   "metadata": {},
   "source": [
    "* ### Matcher(매처)\n",
    "  * 데이터가 있고, 그 데이터가 올바른지 확인할 때 매처를 사용한다. 가장 흔히 사용되는 것들을 살펴보자. (매처 가이드 를 살펴 보라)"
   ]
  },
  {
   "cell_type": "markdown",
   "metadata": {},
   "source": [
    "* mustEqual\n",
    "  * 이미 mustEqual 예제는 여러 개 살펴 보았다."
   ]
  },
  {
   "cell_type": "markdown",
   "metadata": {},
   "source": [
    "<pre>\n",
    "1 mustEqual 1\n",
    "\n",
    "\"a\" mustEqual \"a\"\n",
    "</pre>"
   ]
  },
  {
   "cell_type": "markdown",
   "metadata": {},
   "source": [
    "* ### 열의 원소"
   ]
  },
  {
   "cell_type": "markdown",
   "metadata": {},
   "source": [
    "<pre>\n",
    "val numbers = List(1, 2, 3)\n",
    "\n",
    "numbers must contain(1)\n",
    "numbers must not contain(4)\n",
    "\n",
    "numbers must containAll(List(1, 2, 3))\n",
    "numbers must containInOrder(List(1, 2, 3))\n",
    "\n",
    "</pre>"
   ]
  },
  {
   "cell_type": "markdown",
   "metadata": {},
   "source": [
    "* ### 맵의 원소"
   ]
  },
  {
   "cell_type": "markdown",
   "metadata": {},
   "source": [
    "<pre>\n",
    "map must haveKey(k)\n",
    "map must notHaveKey(k)\n",
    "\n",
    "map must haveValue(v)\n",
    "map must notHaveValue(v)\n",
    "</pre>"
   ]
  },
  {
   "cell_type": "markdown",
   "metadata": {},
   "source": [
    "* ### 수"
   ]
  },
  {
   "cell_type": "markdown",
   "metadata": {},
   "source": [
    "<pre>\n",
    "a must beGreaterThan(b)\n",
    "a must beGreaterThanOrEqualTo(b)\n",
    "\n",
    "a must beLessThan(b)\n",
    "a must beLessThanOrEqualTo(b)\n",
    "\n",
    "a must beCloseTo(b, delta)\n",
    "</pre>"
   ]
  },
  {
   "cell_type": "markdown",
   "metadata": {},
   "source": [
    "* ### 옵션(Option)\n"
   ]
  },
  {
   "cell_type": "markdown",
   "metadata": {},
   "source": [
    "<pre>\n",
    "a must beNone\n",
    "\n",
    "a must beSome[Type]\n",
    "\n",
    "a must beSomething\n",
    "\n",
    "a must beSome(value)\n",
    "</pre>"
   ]
  },
  {
   "cell_type": "markdown",
   "metadata": {},
   "source": [
    "* ### throwA"
   ]
  },
  {
   "cell_type": "markdown",
   "metadata": {},
   "source": [
    "<pre>a must throwA[WhateverException]\n",
    "</pre>"
   ]
  },
  {
   "cell_type": "markdown",
   "metadata": {},
   "source": [
    "* 이렇게 쓰는게 테스트 몸체에서 예외를 캐치해서 실패로 만드는 것 보다 더 짧다.\n",
    "  <br/>또한 특정 예외 메시지를 명시할 수도 있다."
   ]
  },
  {
   "cell_type": "markdown",
   "metadata": {},
   "source": [
    "<pre>a must throwA(WhateverException(\"message\"))</pre>"
   ]
  },
  {
   "cell_type": "markdown",
   "metadata": {},
   "source": [
    "* 예외의 타입에 대해 매치할 수도 있다."
   ]
  },
  {
   "cell_type": "markdown",
   "metadata": {},
   "source": [
    "<pre>\n",
    "a must throwA(new Exception) like {\n",
    "  case Exception(m) => m.startsWith(\"bad\")\n",
    "}\n",
    "</pre>\n"
   ]
  },
  {
   "cell_type": "markdown",
   "metadata": {},
   "source": [
    "* ### val로 정의하기"
   ]
  },
  {
   "cell_type": "markdown",
   "metadata": {},
   "source": [
    "<pre>\n",
    "\"A matcher\" should {\n",
    "  \"be created as a val\" in {\n",
    "    val beEven = new Matcher[Int] {\n",
    "      def apply(n: => Int) = {\n",
    "        (n % 2 == 0, \"%d is even\".format(n), \"%d is odd\".format(n))\n",
    "      }\n",
    "    }\n",
    "    2 must beEven\n",
    "  }\n",
    "}\n",
    "</pre>"
   ]
  },
  {
   "cell_type": "markdown",
   "metadata": {},
   "source": [
    "* 매처 정의시 지켜야할 계약은 3-튜플을 반환하는 것이다. <br/>\n",
    "  첫 원소에는 예상 결과를 만족하는지 여부, 두번째 원소에는 만족시의 메시지, <br/>\n",
    "  마지막 원소에는 실패시의 메시지가 들어가야 한다."
   ]
  },
  {
   "cell_type": "markdown",
   "metadata": {},
   "source": [
    "* ### 케이스 클래스로 정의하기"
   ]
  },
  {
   "cell_type": "markdown",
   "metadata": {},
   "source": [
    "<pre>\n",
    "case class beEven(b: Int) extends Matcher[Int]() {\n",
    "  def apply(n: => Int) =  (n % 2 == 0, \"%d is even\".format(n), \"%d is odd\".format(n))\n",
    "}\n",
    "\n",
    "케이스 클래스로 만들면 더 공유하기 쉬워진다.\n",
    "</pre>"
   ]
  },
  {
   "cell_type": "markdown",
   "metadata": {},
   "source": [
    "* ### 목업"
   ]
  },
  {
   "cell_type": "markdown",
   "metadata": {},
   "source": [
    "<pre>\n",
    "import org.specs.Specification\n",
    "import org.specs.mock.Mockito\n",
    "\n",
    "class Foo[T] {\n",
    "  def get(i: Int): T\n",
    "}\n",
    "\n",
    "object MockExampleSpec extends Specification with Mockito {\n",
    "  val m = mock[Foo[String]]\n",
    "\n",
    "  m.get(0) returns \"one\"\n",
    "\n",
    "  m.get(0)\n",
    "\n",
    "  there was one(m).get(0)\n",
    "\n",
    "  there was no(m).get(1)\n",
    "}\n",
    "</pre>"
   ]
  },
  {
   "cell_type": "markdown",
   "metadata": {},
   "source": [
    "* ### 스파이\n",
    "  * 스파이를 사용해 실제 객체를 “부분적으로 흉내내기”할 수 있다."
   ]
  },
  {
   "cell_type": "markdown",
   "metadata": {},
   "source": [
    "<pre>\n",
    "val list = new LinkedList[String]\n",
    "val spiedList = spy(list)\n",
    "\n",
    "// methods can be stubbed on a spy\n",
    "spiedList.size returns 100\n",
    "\n",
    "// other methods can also be used\n",
    "spiedList.add(\"one\")\n",
    "spiedList.add(\"two\")\n",
    "\n",
    "// and verification can happen on a spy\n",
    "there was one(spiedList).add(\"one\")\n",
    "</pre>"
   ]
  },
  {
   "cell_type": "markdown",
   "metadata": {},
   "source": [
    "* 하지만, 스파이를 쓰면 때로 문제가 생길 수 있다."
   ]
  },
  {
   "cell_type": "markdown",
   "metadata": {},
   "source": [
    "<pre>\n",
    "// 리스트가 비어있다면, IndexOutOfBoundsException가 발생할 것이다.\n",
    "spiedList.get(0) returns \"one\"\n",
    "</pre>"
   ]
  },
  {
   "cell_type": "markdown",
   "metadata": {},
   "source": [
    "* 이 경우 doReturn 을 사용해야만 한다."
   ]
  },
  {
   "cell_type": "markdown",
   "metadata": {},
   "source": [
    "<pre>\n",
    "doReturn(\"one\").when(spiedList).get(0)\n",
    "</pre>"
   ]
  },
  {
   "cell_type": "markdown",
   "metadata": {},
   "source": [
    "* ### 개별 specs를 sbt에서 실행하기"
   ]
  },
  {
   "cell_type": "markdown",
   "metadata": {},
   "source": [
    "<pre>\n",
    "> test-only com.twitter.yourservice.UserSpec\n",
    "라고 하면 해당 spec을 실행할 것이다.\n",
    "</pre>"
   ]
  },
  {
   "cell_type": "markdown",
   "metadata": {},
   "source": [
    "<pre>\n",
    "> ~ test-only com.twitter.yourservice.UserSpec\n",
    "라고 하면 테스트를 실행하되, 파일이 바뀔 때마다 테스트가 재실행될 것이다.\n",
    "</pre>"
   ]
  },
  {
   "cell_type": "code",
   "execution_count": null,
   "metadata": {
    "collapsed": true
   },
   "outputs": [],
   "source": []
  }
 ],
 "metadata": {
  "kernelspec": {
   "display_name": "Scala 2.11",
   "language": "scala211",
   "name": "scala211"
  },
  "language_info": {
   "codemirror_mode": "text/x-scala",
   "file_extension": "scala",
   "mimetype": "text/x-scala",
   "name": "scala211",
   "pygments_lexer": "scala",
   "version": "2.11.6"
  }
 },
 "nbformat": 4,
 "nbformat_minor": 0
}
